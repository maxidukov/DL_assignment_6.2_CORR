{
 "cells": [
  {
   "cell_type": "markdown",
   "metadata": {
    "id": "rNzdSQVo9l_q"
   },
   "source": [
    "# Рекуррентные нейросети\n",
    "\n",
    "Построим простейшую нейросеть для посимвольной генерации текста"
   ]
  },
  {
   "cell_type": "code",
   "execution_count": 1,
   "metadata": {
    "ExecuteTime": {
     "end_time": "2020-03-12T15:11:51.143288Z",
     "start_time": "2020-03-12T15:11:49.649354Z"
    },
    "id": "uB1QEk1gm1oW"
   },
   "outputs": [],
   "source": [
    "import pandas as pd  # для работы с данными\n",
    "import time  # для оценки времени\n",
    "import torch  # для написания нейросети\n",
    "\n",
    "from torch import nn\n",
    "\n",
    "import gc"
   ]
  },
  {
   "cell_type": "code",
   "execution_count": 140,
   "metadata": {},
   "outputs": [],
   "source": [
    "from IPython.display import Image"
   ]
  },
  {
   "cell_type": "markdown",
   "metadata": {
    "id": "c3aOx64Mm1oZ"
   },
   "source": [
    "## Загрузка данных\n",
    "\n",
    "Будем работать с датасетом реплик из Симпсонов. Нам нужно извлечь предобработанные тексты и закодировать их числами"
   ]
  },
  {
   "cell_type": "code",
   "execution_count": 2,
   "metadata": {
    "ExecuteTime": {
     "end_time": "2020-03-12T15:12:00.685533Z",
     "start_time": "2020-03-12T15:12:00.591616Z"
    },
    "colab": {
     "base_uri": "https://localhost:8080/",
     "height": 613
    },
    "id": "duHW4TnGm1ob",
    "outputId": "2c6640cd-d0f3-4857-a3e2-79e7d82c917c"
   },
   "outputs": [
    {
     "name": "stderr",
     "output_type": "stream",
     "text": [
      "/tmp/ipykernel_125516/696996245.py:1: DtypeWarning: Columns (4,5,6) have mixed types. Specify dtype option on import or set low_memory=False.\n",
      "  df = pd.read_csv('../simpsons_script_lines.csv')\n"
     ]
    },
    {
     "data": {
      "text/html": [
       "<div>\n",
       "<style scoped>\n",
       "    .dataframe tbody tr th:only-of-type {\n",
       "        vertical-align: middle;\n",
       "    }\n",
       "\n",
       "    .dataframe tbody tr th {\n",
       "        vertical-align: top;\n",
       "    }\n",
       "\n",
       "    .dataframe thead th {\n",
       "        text-align: right;\n",
       "    }\n",
       "</style>\n",
       "<table border=\"1\" class=\"dataframe\">\n",
       "  <thead>\n",
       "    <tr style=\"text-align: right;\">\n",
       "      <th></th>\n",
       "      <th>id</th>\n",
       "      <th>episode_id</th>\n",
       "      <th>number</th>\n",
       "      <th>raw_text</th>\n",
       "      <th>timestamp_in_ms</th>\n",
       "      <th>speaking_line</th>\n",
       "      <th>character_id</th>\n",
       "      <th>location_id</th>\n",
       "      <th>raw_character_text</th>\n",
       "      <th>raw_location_text</th>\n",
       "      <th>spoken_words</th>\n",
       "      <th>normalized_text</th>\n",
       "      <th>word_count</th>\n",
       "    </tr>\n",
       "  </thead>\n",
       "  <tbody>\n",
       "    <tr>\n",
       "      <th>0</th>\n",
       "      <td>9549</td>\n",
       "      <td>32</td>\n",
       "      <td>209</td>\n",
       "      <td>Miss Hoover: No, actually, it was a little of ...</td>\n",
       "      <td>848000</td>\n",
       "      <td>True</td>\n",
       "      <td>464.0</td>\n",
       "      <td>3.0</td>\n",
       "      <td>Miss Hoover</td>\n",
       "      <td>Springfield Elementary School</td>\n",
       "      <td>No, actually, it was a little of both. Sometim...</td>\n",
       "      <td>no actually it was a little of both sometimes ...</td>\n",
       "      <td>31</td>\n",
       "    </tr>\n",
       "    <tr>\n",
       "      <th>1</th>\n",
       "      <td>9550</td>\n",
       "      <td>32</td>\n",
       "      <td>210</td>\n",
       "      <td>Lisa Simpson: (NEAR TEARS) Where's Mr. Bergstrom?</td>\n",
       "      <td>856000</td>\n",
       "      <td>True</td>\n",
       "      <td>9.0</td>\n",
       "      <td>3.0</td>\n",
       "      <td>Lisa Simpson</td>\n",
       "      <td>Springfield Elementary School</td>\n",
       "      <td>Where's Mr. Bergstrom?</td>\n",
       "      <td>wheres mr bergstrom</td>\n",
       "      <td>3</td>\n",
       "    </tr>\n",
       "    <tr>\n",
       "      <th>2</th>\n",
       "      <td>9551</td>\n",
       "      <td>32</td>\n",
       "      <td>211</td>\n",
       "      <td>Miss Hoover: I don't know. Although I'd sure l...</td>\n",
       "      <td>856000</td>\n",
       "      <td>True</td>\n",
       "      <td>464.0</td>\n",
       "      <td>3.0</td>\n",
       "      <td>Miss Hoover</td>\n",
       "      <td>Springfield Elementary School</td>\n",
       "      <td>I don't know. Although I'd sure like to talk t...</td>\n",
       "      <td>i dont know although id sure like to talk to h...</td>\n",
       "      <td>22</td>\n",
       "    </tr>\n",
       "    <tr>\n",
       "      <th>3</th>\n",
       "      <td>9552</td>\n",
       "      <td>32</td>\n",
       "      <td>212</td>\n",
       "      <td>Lisa Simpson: That life is worth living.</td>\n",
       "      <td>864000</td>\n",
       "      <td>True</td>\n",
       "      <td>9.0</td>\n",
       "      <td>3.0</td>\n",
       "      <td>Lisa Simpson</td>\n",
       "      <td>Springfield Elementary School</td>\n",
       "      <td>That life is worth living.</td>\n",
       "      <td>that life is worth living</td>\n",
       "      <td>5</td>\n",
       "    </tr>\n",
       "    <tr>\n",
       "      <th>4</th>\n",
       "      <td>9553</td>\n",
       "      <td>32</td>\n",
       "      <td>213</td>\n",
       "      <td>Edna Krabappel-Flanders: The polls will be ope...</td>\n",
       "      <td>864000</td>\n",
       "      <td>True</td>\n",
       "      <td>40.0</td>\n",
       "      <td>3.0</td>\n",
       "      <td>Edna Krabappel-Flanders</td>\n",
       "      <td>Springfield Elementary School</td>\n",
       "      <td>The polls will be open from now until the end ...</td>\n",
       "      <td>the polls will be open from now until the end ...</td>\n",
       "      <td>33</td>\n",
       "    </tr>\n",
       "  </tbody>\n",
       "</table>\n",
       "</div>"
      ],
      "text/plain": [
       "     id  episode_id  number  \\\n",
       "0  9549          32     209   \n",
       "1  9550          32     210   \n",
       "2  9551          32     211   \n",
       "3  9552          32     212   \n",
       "4  9553          32     213   \n",
       "\n",
       "                                            raw_text timestamp_in_ms  \\\n",
       "0  Miss Hoover: No, actually, it was a little of ...          848000   \n",
       "1  Lisa Simpson: (NEAR TEARS) Where's Mr. Bergstrom?          856000   \n",
       "2  Miss Hoover: I don't know. Although I'd sure l...          856000   \n",
       "3           Lisa Simpson: That life is worth living.          864000   \n",
       "4  Edna Krabappel-Flanders: The polls will be ope...          864000   \n",
       "\n",
       "  speaking_line character_id  location_id       raw_character_text  \\\n",
       "0          True        464.0          3.0              Miss Hoover   \n",
       "1          True          9.0          3.0             Lisa Simpson   \n",
       "2          True        464.0          3.0              Miss Hoover   \n",
       "3          True          9.0          3.0             Lisa Simpson   \n",
       "4          True         40.0          3.0  Edna Krabappel-Flanders   \n",
       "\n",
       "               raw_location_text  \\\n",
       "0  Springfield Elementary School   \n",
       "1  Springfield Elementary School   \n",
       "2  Springfield Elementary School   \n",
       "3  Springfield Elementary School   \n",
       "4  Springfield Elementary School   \n",
       "\n",
       "                                        spoken_words  \\\n",
       "0  No, actually, it was a little of both. Sometim...   \n",
       "1                             Where's Mr. Bergstrom?   \n",
       "2  I don't know. Although I'd sure like to talk t...   \n",
       "3                         That life is worth living.   \n",
       "4  The polls will be open from now until the end ...   \n",
       "\n",
       "                                     normalized_text word_count  \n",
       "0  no actually it was a little of both sometimes ...         31  \n",
       "1                                wheres mr bergstrom          3  \n",
       "2  i dont know although id sure like to talk to h...         22  \n",
       "3                          that life is worth living          5  \n",
       "4  the polls will be open from now until the end ...         33  "
      ]
     },
     "execution_count": 2,
     "metadata": {},
     "output_type": "execute_result"
    }
   ],
   "source": [
    "df = pd.read_csv('../simpsons_script_lines.csv')\n",
    "df.head()"
   ]
  },
  {
   "cell_type": "code",
   "execution_count": 3,
   "metadata": {
    "ExecuteTime": {
     "end_time": "2020-03-12T15:12:15.820742Z",
     "start_time": "2020-03-12T15:12:15.809523Z"
    },
    "colab": {
     "base_uri": "https://localhost:8080/"
    },
    "id": "gjSdDLcSm1oc",
    "outputId": "6c4b9cb4-832b-427a-a6ba-7deca7c9c216"
   },
   "outputs": [
    {
     "data": {
      "text/plain": [
       "['no actually it was a little of both sometimes when a disease is in all the magazines and all the news shows its only natural that you think you have it',\n",
       " 'wheres mr bergstrom',\n",
       " 'i dont know although id sure like to talk to him he didnt touch my lesson plan what did he teach you',\n",
       " 'that life is worth living',\n",
       " 'the polls will be open from now until the end of recess now just in case any of you have decided to put any thought into this well have our final statements martin',\n",
       " 'i dont think theres anything left to say',\n",
       " 'bart',\n",
       " 'victory party under the slide',\n",
       " nan,\n",
       " 'mr bergstrom mr bergstrom']"
      ]
     },
     "execution_count": 3,
     "metadata": {},
     "output_type": "execute_result"
    }
   ],
   "source": [
    "phrases = df['normalized_text'].tolist()  # колонка с предобработанными текстами\n",
    "phrases[:10]"
   ]
  },
  {
   "cell_type": "code",
   "execution_count": 4,
   "metadata": {
    "ExecuteTime": {
     "end_time": "2020-03-12T15:12:32.809563Z",
     "start_time": "2020-03-12T15:12:32.768140Z"
    },
    "id": "1ChXCEWwm1od"
   },
   "outputs": [],
   "source": [
    "text = [[c for c in ph] for ph in phrases if type(ph) is str]"
   ]
  },
  {
   "cell_type": "markdown",
   "metadata": {
    "id": "jAQEsntvm1od"
   },
   "source": [
    "## Создаём массив с данными\n",
    "\n",
    "Нужно\n",
    "\n",
    "1. Разбить данные на токены (у нас символы)\n",
    "2. Закодировать числами\n",
    "3. Превратить в эмбеддинги"
   ]
  },
  {
   "cell_type": "code",
   "execution_count": 5,
   "metadata": {
    "ExecuteTime": {
     "end_time": "2020-03-12T15:12:53.641351Z",
     "start_time": "2020-03-12T15:12:53.636757Z"
    },
    "id": "ZnCuSmHym1od"
   },
   "outputs": [],
   "source": [
    "CHARS = set('abcdefghijklmnopqrstuvwxyz ')  # все символы, которые мы хотим использовать для кодировки = наш словарь\n",
    "INDEX_TO_CHAR = ['none'] + [w for w in CHARS]  # все неизвестные символы будут получать тег none\n",
    "CHAR_TO_INDEX = {w: i for i, w in enumerate(INDEX_TO_CHAR)}  # словарь токен-индекс"
   ]
  },
  {
   "cell_type": "code",
   "execution_count": 6,
   "metadata": {
    "colab": {
     "base_uri": "https://localhost:8080/"
    },
    "id": "vp5hyfQMIXUe",
    "outputId": "e06f0b3d-cef5-4fc8-8105-7139f9e264e0"
   },
   "outputs": [
    {
     "data": {
      "text/plain": [
       "28"
      ]
     },
     "execution_count": 6,
     "metadata": {},
     "output_type": "execute_result"
    }
   ],
   "source": [
    "len(INDEX_TO_CHAR)"
   ]
  },
  {
   "cell_type": "code",
   "execution_count": 7,
   "metadata": {},
   "outputs": [
    {
     "name": "stdout",
     "output_type": "stream",
     "text": [
      "['none', 'u', ' ', 'e', 'f', 'z', 'q', 'v', 'j', 'w', 'r', 'i', 'x', 'a', 'o', 'c', 'g', 'p', 'n', 's', 'y', 'd', 'k', 'l', 't', 'm', 'h', 'b']\n"
     ]
    }
   ],
   "source": [
    "print(INDEX_TO_CHAR)"
   ]
  },
  {
   "cell_type": "code",
   "execution_count": 8,
   "metadata": {},
   "outputs": [
    {
     "name": "stdout",
     "output_type": "stream",
     "text": [
      "{'none': 0, 'u': 1, ' ': 2, 'e': 3, 'f': 4, 'z': 5, 'q': 6, 'v': 7, 'j': 8, 'w': 9, 'r': 10, 'i': 11, 'x': 12, 'a': 13, 'o': 14, 'c': 15, 'g': 16, 'p': 17, 'n': 18, 's': 19, 'y': 20, 'd': 21, 'k': 22, 'l': 23, 't': 24, 'm': 25, 'h': 26, 'b': 27}\n"
     ]
    }
   ],
   "source": [
    "print(CHAR_TO_INDEX)"
   ]
  },
  {
   "cell_type": "code",
   "execution_count": 9,
   "metadata": {},
   "outputs": [
    {
     "name": "stdout",
     "output_type": "stream",
     "text": [
      "{0: 'none', 1: 'u', 2: ' ', 3: 'e', 4: 'f', 5: 'z', 6: 'q', 7: 'v', 8: 'j', 9: 'w', 10: 'r', 11: 'i', 12: 'x', 13: 'a', 14: 'o', 15: 'c', 16: 'g', 17: 'p', 18: 'n', 19: 's', 20: 'y', 21: 'd', 22: 'k', 23: 'l', 24: 't', 25: 'm', 26: 'h', 27: 'b'}\n"
     ]
    }
   ],
   "source": [
    "IND2CHAR =  { v:k for k,v in CHAR_TO_INDEX.items()}\n",
    "print(IND2CHAR)"
   ]
  },
  {
   "cell_type": "code",
   "execution_count": 10,
   "metadata": {
    "ExecuteTime": {
     "end_time": "2020-03-12T15:13:58.918002Z",
     "start_time": "2020-03-12T15:13:55.602551Z"
    },
    "id": "Z8_Kqpjnm1oe"
   },
   "outputs": [],
   "source": [
    "MAX_LEN = 50  # мы хотим ограничить максимальную длину ввода\n",
    "X = torch.zeros((len(text), MAX_LEN), dtype=int)  # создаём пустой вектор для текста, чтобы класть в него индексы токенов\n",
    "for i in range(len(text)):  # для каждого предложения\n",
    "    for j, w in enumerate(text[i]):  # для каждого токена\n",
    "        if j >= MAX_LEN:\n",
    "            break\n",
    "        X[i, j] = CHAR_TO_INDEX.get(w, CHAR_TO_INDEX['none'])"
   ]
  },
  {
   "cell_type": "code",
   "execution_count": 11,
   "metadata": {},
   "outputs": [
    {
     "name": "stdout",
     "output_type": "stream",
     "text": [
      "132087\n"
     ]
    }
   ],
   "source": [
    "print(len(X))"
   ]
  },
  {
   "cell_type": "code",
   "execution_count": 12,
   "metadata": {
    "scrolled": false
   },
   "outputs": [
    {
     "name": "stdout",
     "output_type": "stream",
     "text": [
      "tensor([[18, 14,  2, 13, 15, 24,  1, 13, 23, 23, 20,  2, 11, 24,  2,  9, 13, 19,\n",
      "          2, 13,  2, 23, 11, 24, 24, 23,  3,  2, 14,  4,  2, 27, 14, 24, 26,  2,\n",
      "         19, 14, 25,  3, 24, 11, 25,  3, 19,  2,  9, 26,  3, 18],\n",
      "        [ 9, 26,  3, 10,  3, 19,  2, 25, 10,  2, 27,  3, 10, 16, 19, 24, 10, 14,\n",
      "         25,  0,  0,  0,  0,  0,  0,  0,  0,  0,  0,  0,  0,  0,  0,  0,  0,  0,\n",
      "          0,  0,  0,  0,  0,  0,  0,  0,  0,  0,  0,  0,  0,  0],\n",
      "        [11,  2, 21, 14, 18, 24,  2, 22, 18, 14,  9,  2, 13, 23, 24, 26, 14,  1,\n",
      "         16, 26,  2, 11, 21,  2, 19,  1, 10,  3,  2, 23, 11, 22,  3,  2, 24, 14,\n",
      "          2, 24, 13, 23, 22,  2, 24, 14,  2, 26, 11, 25,  2, 26],\n",
      "        [24, 26, 13, 24,  2, 23, 11,  4,  3,  2, 11, 19,  2,  9, 14, 10, 24, 26,\n",
      "          2, 23, 11,  7, 11, 18, 16,  0,  0,  0,  0,  0,  0,  0,  0,  0,  0,  0,\n",
      "          0,  0,  0,  0,  0,  0,  0,  0,  0,  0,  0,  0,  0,  0],\n",
      "        [24, 26,  3,  2, 17, 14, 23, 23, 19,  2,  9, 11, 23, 23,  2, 27,  3,  2,\n",
      "         14, 17,  3, 18,  2,  4, 10, 14, 25,  2, 18, 14,  9,  2,  1, 18, 24, 11,\n",
      "         23,  2, 24, 26,  3,  2,  3, 18, 21,  2, 14,  4,  2, 10]]) torch.Size([5, 50])\n"
     ]
    }
   ],
   "source": [
    "batch = X[0:5]\n",
    "print(batch, batch.shape)\n",
    "# print(btch[:,:-1], btch[:,:-1].shape)\n",
    "# print(btch[:,1:], btch[:,1:].shape)"
   ]
  },
  {
   "cell_type": "code",
   "execution_count": 13,
   "metadata": {},
   "outputs": [
    {
     "name": "stdout",
     "output_type": "stream",
     "text": [
      "[['o', ' ', 'a', 'c', 't', 'u', 'a', 'l', 'l', 'y', ' ', 'i', 't', ' ', 'w', 'a', 's', ' ', 'a', ' ', 'l', 'i', 't', 't', 'l', 'e', ' ', 'o', 'f', ' ', 'b', 'o', 't', 'h', ' ', 's', 'o', 'm', 'e', 't', 'i', 'm', 'e', 's', ' ', 'w', 'h', 'e', 'n'], ['h', 'e', 'r', 'e', 's', ' ', 'm', 'r', ' ', 'b', 'e', 'r', 'g', 's', 't', 'r', 'o', 'm'], [' ', 'd', 'o', 'n', 't', ' ', 'k', 'n', 'o', 'w', ' ', 'a', 'l', 't', 'h', 'o', 'u', 'g', 'h', ' ', 'i', 'd', ' ', 's', 'u', 'r', 'e', ' ', 'l', 'i', 'k', 'e', ' ', 't', 'o', ' ', 't', 'a', 'l', 'k', ' ', 't', 'o', ' ', 'h', 'i', 'm', ' ', 'h'], ['h', 'a', 't', ' ', 'l', 'i', 'f', 'e', ' ', 'i', 's', ' ', 'w', 'o', 'r', 't', 'h', ' ', 'l', 'i', 'v', 'i', 'n', 'g'], ['h', 'e', ' ', 'p', 'o', 'l', 'l', 's', ' ', 'w', 'i', 'l', 'l', ' ', 'b', 'e', ' ', 'o', 'p', 'e', 'n', ' ', 'f', 'r', 'o', 'm', ' ', 'n', 'o', 'w', ' ', 'u', 'n', 't', 'i', 'l', ' ', 't', 'h', 'e', ' ', 'e', 'n', 'd', ' ', 'o', 'f', ' ', 'r']]\n"
     ]
    }
   ],
   "source": [
    "import numpy as np\n",
    "# arr = np.zeros((len(btch),50))\n",
    "arr = []\n",
    "for i in range(len(batch[:, 1:])):\n",
    "    row = []\n",
    "    for j in range(len(batch[:, 1:][0])):\n",
    "        if IND2CHAR[batch[:, 1:][i,j].item()] == 'none':\n",
    "            break\n",
    "        else:\n",
    "            row.append(IND2CHAR[batch[:, 1:][i,j].item()])\n",
    "#         arr[i,j] = IND2CHAR[btch[i,j].item()]\n",
    "    arr.append(row)\n",
    "print(arr)"
   ]
  },
  {
   "cell_type": "markdown",
   "metadata": {
    "id": "_j4Fpnr2m1of"
   },
   "source": [
    "## Embedding и RNN ячейки\n",
    "\n",
    "Каждому токену мы хотим сопоставить не просто число, но вектор. Поэтому вектор текста нам нужно умножить на матрицу эмбеддингов, которая тоже будет учиться в процессе обучения нейросети. Для создания такой матрицы нам нужен слой `nn.Embedding`"
   ]
  },
  {
   "cell_type": "code",
   "execution_count": 14,
   "metadata": {
    "colab": {
     "base_uri": "https://localhost:8080/"
    },
    "id": "49DO7kkNqtVK",
    "outputId": "45118f6e-d023-459c-ce30-c86567e1e06f",
    "scrolled": true
   },
   "outputs": [
    {
     "data": {
      "text/plain": [
       "torch.Size([5, 50])"
      ]
     },
     "execution_count": 14,
     "metadata": {},
     "output_type": "execute_result"
    }
   ],
   "source": [
    "X[0:5].shape"
   ]
  },
  {
   "cell_type": "code",
   "execution_count": 15,
   "metadata": {
    "ExecuteTime": {
     "end_time": "2020-03-12T15:14:15.694973Z",
     "start_time": "2020-03-12T15:14:15.644024Z"
    },
    "colab": {
     "base_uri": "https://localhost:8080/"
    },
    "id": "grMla_CJm1og",
    "outputId": "5e59a467-0e56-4686-823e-0c34f490c606"
   },
   "outputs": [
    {
     "data": {
      "text/plain": [
       "torch.Size([5, 50, 28])"
      ]
     },
     "execution_count": 15,
     "metadata": {},
     "output_type": "execute_result"
    }
   ],
   "source": [
    "embeddings = torch.nn.Embedding(len(INDEX_TO_CHAR), 28)  # размер словаря * размер вектора для кодировки каждого слова\n",
    "t = embeddings(X[0:5])\n",
    "t.shape"
   ]
  },
  {
   "cell_type": "code",
   "execution_count": 16,
   "metadata": {
    "ExecuteTime": {
     "end_time": "2020-03-12T15:14:48.405046Z",
     "start_time": "2020-03-12T15:14:48.400041Z"
    },
    "colab": {
     "base_uri": "https://localhost:8080/"
    },
    "id": "28tafLrcm1og",
    "outputId": "800c5658-b33e-49f6-9854-d5b9862fe141"
   },
   "outputs": [
    {
     "data": {
      "text/plain": [
       "(torch.Size([5, 50, 28]), torch.Size([5, 50]))"
      ]
     },
     "execution_count": 16,
     "metadata": {},
     "output_type": "execute_result"
    }
   ],
   "source": [
    "t.shape, X[0:5].shape"
   ]
  },
  {
   "cell_type": "code",
   "execution_count": 17,
   "metadata": {
    "ExecuteTime": {
     "end_time": "2020-03-12T15:18:23.190978Z",
     "start_time": "2020-03-12T15:18:23.180493Z"
    },
    "colab": {
     "base_uri": "https://localhost:8080/"
    },
    "id": "PdGchJjim1oh",
    "outputId": "c1b1e6ca-d6b1-4a65-89cd-b334754537c6"
   },
   "outputs": [
    {
     "name": "stdout",
     "output_type": "stream",
     "text": [
      "torch.Size([5, 50, 128]) torch.Size([1, 5, 128])\n"
     ]
    }
   ],
   "source": [
    "rnn = torch.nn.RNN(28, 128, batch_first=True)  # на вход - размер эмбеддинга, размер скрытого состояния и порядок размерностей\n",
    "with torch.no_grad():\n",
    "    o, s = rnn(t)\n",
    "# вектора для слов: батч * число токенов * размер скрытого состояния\n",
    "# вектор скрытого состояния: число вектров (один) * батч * размер скрытого состояния\n",
    "print(o.shape, s.shape)"
   ]
  },
  {
   "cell_type": "markdown",
   "metadata": {
    "id": "n7JUp4QuCQZu"
   },
   "source": [
    "Можно применять несколько рекуррентных ячеек подряд"
   ]
  },
  {
   "cell_type": "code",
   "execution_count": 18,
   "metadata": {
    "ExecuteTime": {
     "end_time": "2020-03-12T15:18:35.190131Z",
     "start_time": "2020-03-12T15:18:35.180708Z"
    },
    "colab": {
     "base_uri": "https://localhost:8080/"
    },
    "id": "kdLW-BSsm1oh",
    "outputId": "c385efe3-764c-4bcd-93b8-ef4d8a68f85c"
   },
   "outputs": [
    {
     "data": {
      "text/plain": [
       "(torch.Size([5, 50, 128]), torch.Size([1, 5, 128]))"
      ]
     },
     "execution_count": 18,
     "metadata": {},
     "output_type": "execute_result"
    }
   ],
   "source": [
    "o2, s2 = rnn(t, s)\n",
    "o2.shape, s2.shape"
   ]
  },
  {
   "cell_type": "markdown",
   "metadata": {
    "id": "ghow-s0Gm1oi"
   },
   "source": [
    "## Реализация сети с RNN\n",
    "3 слоя:\n",
    "1. Embeding (30)\n",
    "2. RNN (hidden_dim=128)\n",
    "3. Полносвязный слой для предсказания буквы (28, то есть размер словаря)"
   ]
  },
  {
   "cell_type": "markdown",
   "metadata": {},
   "source": [
    "# 1. Заменим \"коробочный\" модуль torch.nn.RNN на собственную реализацию (упрощенную), использующую полносвязные модули torch.nn.Linear"
   ]
  },
  {
   "cell_type": "code",
   "execution_count": 19,
   "metadata": {
    "ExecuteTime": {
     "end_time": "2020-03-12T15:26:45.716418Z",
     "start_time": "2020-03-12T15:26:45.710937Z"
    },
    "id": "Z9toGCkOm1oi"
   },
   "outputs": [],
   "source": [
    "# class Network(torch.nn.Module):\n",
    "#     def __init__(self):\n",
    "#         super(Network, self).__init__()\n",
    "#         self.embedding = torch.nn.Embedding(28, 30)\n",
    "#         self.rnn = torch.nn.RNN(30, 128)\n",
    "#         self.out = torch.nn.Linear(128, 28)\n",
    "\n",
    "#     def forward(self, sentences, state=None):\n",
    "#         x = self.embedding(sentences)\n",
    "#         x, s = self.rnn(x) # берём выход с последнего слоя для всех токенов, а не скрытое состояние\n",
    "#         return self.out(x)"
   ]
  },
  {
   "cell_type": "code",
   "execution_count": 86,
   "metadata": {},
   "outputs": [],
   "source": [
    "class RNN_emu(torch.nn.Module):\n",
    "    def __init__(self,input_size, hidden_size, batch_first = False):\n",
    "        super(RNN_emu, self).__init__()\n",
    "        self.hidden_size = hidden_size\n",
    "        self.batch_first = batch_first\n",
    "        self.input2hidden = nn.Linear(input_size, hidden_size)\n",
    "        self.hidden2hidden = nn.Linear(hidden_size, hidden_size)\n",
    "#         self.hidden2output = nn.Linear(hidden_size, output_size)\n",
    "    \n",
    "    def initHidden(self, batch_size):\n",
    "        return torch.zeros(batch_size, self.hidden_size)\n",
    "    \n",
    "    def forward(self,input_tensor):\n",
    "        if len(input_tensor.shape) == 2: #IF SOMEHOW A SINGLE SEQUENCE OF FEATURE TENSORS IS PASSED AS ARGUMENT\n",
    "            input_tensor = input_tensor.unsqueeze(1)\n",
    "        if self.batch_first:\n",
    "            input_tensor = input_tensor.permute(1,0,2)\n",
    "        batch_size = input_tensor.shape[1]\n",
    "        hidden = self.initHidden(batch_size)\n",
    "        if input_tensor.is_cuda: ## IMPORTANT TO AVOID DEVICE CONFLICT\n",
    "            hidden = hidden.cuda()\n",
    "        hidden_all = []\n",
    "        for X in input_tensor:\n",
    "            hidden = self.input2hidden(X) + self.hidden2hidden(hidden)\n",
    "            hidden = torch.tanh(hidden)\n",
    "            hidden_all.append(hidden)\n",
    "        hidden_all = torch.stack(hidden_all, dim=0)\n",
    "        if self.batch_first:\n",
    "            hidden_all = hidden_all.permute(1,0,2)\n",
    "        return hidden_all, hidden.unsqueeze(0)"
   ]
  },
  {
   "cell_type": "code",
   "execution_count": 87,
   "metadata": {},
   "outputs": [],
   "source": [
    "rnn_emu = RNN_emu(28, 128, batch_first=True)\n",
    "# rnn_emu = RNN_emu(3, 2, batch_first=True)"
   ]
  },
  {
   "cell_type": "code",
   "execution_count": 88,
   "metadata": {},
   "outputs": [],
   "source": [
    "# rnn = torch.nn.RNN(3, 2, batch_first=True)\n",
    "# with torch.no_grad():\n",
    "#     o, s = rnn(t)\n",
    "# o.shape, s.shape"
   ]
  },
  {
   "cell_type": "markdown",
   "metadata": {},
   "source": [
    "# 2. Проверим, что самодельный модуль возвращает те же объекты, что и \"коробочный\""
   ]
  },
  {
   "cell_type": "code",
   "execution_count": 89,
   "metadata": {},
   "outputs": [
    {
     "name": "stdout",
     "output_type": "stream",
     "text": [
      "odict_keys(['input2hidden.weight', 'input2hidden.bias', 'hidden2hidden.weight', 'hidden2hidden.bias'])\n",
      "odict_keys(['weight_ih_l0', 'weight_hh_l0', 'bias_ih_l0', 'bias_hh_l0'])\n"
     ]
    }
   ],
   "source": [
    "print(rnn_emu.state_dict().keys())\n",
    "print(rnn.state_dict().keys())"
   ]
  },
  {
   "cell_type": "markdown",
   "metadata": {},
   "source": [
    "## 2.1 Перед тем, как провести входной объект через наш модуль, передадим ему все параметры (случайные, пока не обученные), которые получил при инициализации модуль torch.nn.RNN"
   ]
  },
  {
   "cell_type": "code",
   "execution_count": 90,
   "metadata": {},
   "outputs": [
    {
     "data": {
      "text/plain": [
       "<All keys matched successfully>"
      ]
     },
     "execution_count": 90,
     "metadata": {},
     "output_type": "execute_result"
    }
   ],
   "source": [
    "rnn_emu.load_state_dict(dict(zip(rnn_emu.state_dict().keys(),\n",
    "                                 [list(rnn.state_dict().values())[i] for i in [0,2,1,3]])))"
   ]
  },
  {
   "cell_type": "markdown",
   "metadata": {},
   "source": [
    "## 2.2 Проверим размерности возвращаемых объектов ..."
   ]
  },
  {
   "cell_type": "code",
   "execution_count": 91,
   "metadata": {},
   "outputs": [
    {
     "data": {
      "text/plain": [
       "(torch.Size([5, 50, 128]), torch.Size([1, 5, 128]))"
      ]
     },
     "execution_count": 91,
     "metadata": {},
     "output_type": "execute_result"
    }
   ],
   "source": [
    "with torch.no_grad():\n",
    "    oe, se = rnn_emu(t)\n",
    "oe.shape, se.shape"
   ]
  },
  {
   "cell_type": "markdown",
   "metadata": {},
   "source": [
    "## 2.3 ... и равенство самих объектов, полученным ранее"
   ]
  },
  {
   "cell_type": "code",
   "execution_count": 92,
   "metadata": {},
   "outputs": [
    {
     "data": {
      "text/plain": [
       "tensor(True)"
      ]
     },
     "execution_count": 92,
     "metadata": {},
     "output_type": "execute_result"
    }
   ],
   "source": [
    "(o == oe).all()"
   ]
  },
  {
   "cell_type": "code",
   "execution_count": 93,
   "metadata": {},
   "outputs": [
    {
     "data": {
      "text/plain": [
       "tensor(True)"
      ]
     },
     "execution_count": 93,
     "metadata": {},
     "output_type": "execute_result"
    }
   ],
   "source": [
    "(s == se).all()"
   ]
  },
  {
   "cell_type": "markdown",
   "metadata": {},
   "source": [
    "# 3. Попробуем также построить аналогичный модуль, но использующий вместо двух линейных слоев для скрытого состояния и входного тензора - один, эквивалентный им, с применением конкатенации"
   ]
  },
  {
   "cell_type": "code",
   "execution_count": 141,
   "metadata": {},
   "outputs": [
    {
     "data": {
      "image/png": "[encoded data removed]",
      "text/plain": [
       "<IPython.core.display.Image object>"
      ]
     },
     "execution_count": 141,
     "metadata": {},
     "output_type": "execute_result"
    }
   ],
   "source": [
    "Image('https://www.oreilly.com/api/v2/epubs/9781492037354/files/assets/eq_30.png')"
   ]
  },
  {
   "cell_type": "markdown",
   "metadata": {},
   "source": [
    "## .. единственное, у нас два вектора смещения _b_, но они просто суммируются"
   ]
  },
  {
   "cell_type": "code",
   "execution_count": 94,
   "metadata": {},
   "outputs": [],
   "source": [
    "class RNN_emu_concat(torch.nn.Module):\n",
    "    def __init__(self,input_size, hidden_size, batch_first = False):\n",
    "        super(RNN_emu_concat, self).__init__()\n",
    "        self.hidden_size = hidden_size\n",
    "        self.batch_first = batch_first\n",
    "        self.input2hidden = nn.Linear(input_size + hidden_size, hidden_size)\n",
    "#         self.hidden2output = nn.Linear(hidden_size, output_size)\n",
    "    \n",
    "    def initHidden(self, batch_size):\n",
    "        return torch.zeros(batch_size, self.hidden_size)\n",
    "    \n",
    "    def forward(self,input_tensor):\n",
    "        if len(input_tensor.shape) == 2: #IF SOMEHOW A SINGLE SEQUENCE OF FEATURE TENSORS IS PASSED AS ARGUMENT\n",
    "            input_tensor = input_tensor.unsqueeze(1)\n",
    "        if self.batch_first:\n",
    "            input_tensor = input_tensor.permute(1,0,2)\n",
    "        batch_size = input_tensor.shape[1]\n",
    "        hidden = self.initHidden(batch_size)\n",
    "        if input_tensor.is_cuda:\n",
    "            hidden = hidden.cuda()\n",
    "        hidden_all = []\n",
    "        for X in input_tensor:\n",
    "            hidden = self.input2hidden(torch.cat((X, hidden), 1))\n",
    "            hidden = torch.tanh(hidden)\n",
    "            hidden_all.append(hidden)\n",
    "        hidden_all = torch.stack(hidden_all, dim=0)\n",
    "        if self.batch_first:\n",
    "            hidden_all = hidden_all.permute(1,0,2)\n",
    "        return hidden_all, hidden.unsqueeze(0)"
   ]
  },
  {
   "cell_type": "code",
   "execution_count": 95,
   "metadata": {},
   "outputs": [],
   "source": [
    "rnn_emu_concat = RNN_emu_concat(28, 128, batch_first=True)\n",
    "# rnn_emu_concat = RNN_emu_concat(3, 2, batch_first=True)"
   ]
  },
  {
   "cell_type": "markdown",
   "metadata": {},
   "source": [
    "# 4. Проверим, как ранее, правильность возвращаемых объектов"
   ]
  },
  {
   "cell_type": "code",
   "execution_count": 96,
   "metadata": {},
   "outputs": [
    {
     "data": {
      "text/plain": [
       "odict_keys(['weight_ih_l0', 'weight_hh_l0', 'bias_ih_l0', 'bias_hh_l0'])"
      ]
     },
     "execution_count": 96,
     "metadata": {},
     "output_type": "execute_result"
    }
   ],
   "source": [
    "rnn_state_dict = rnn.state_dict()\n",
    "rnn_state_dict.keys()"
   ]
  },
  {
   "cell_type": "code",
   "execution_count": 97,
   "metadata": {},
   "outputs": [
    {
     "data": {
      "text/plain": [
       "odict_keys(['input2hidden.weight', 'input2hidden.bias'])"
      ]
     },
     "execution_count": 97,
     "metadata": {},
     "output_type": "execute_result"
    }
   ],
   "source": [
    "rnn_emu_concat.state_dict().keys()"
   ]
  },
  {
   "cell_type": "code",
   "execution_count": 98,
   "metadata": {},
   "outputs": [
    {
     "name": "stdout",
     "output_type": "stream",
     "text": [
      "torch.Size([128, 28])\n",
      "torch.Size([128, 128])\n",
      "torch.Size([128, 156])\n"
     ]
    }
   ],
   "source": [
    "print(rnn_state_dict['weight_ih_l0'].shape)\n",
    "print(rnn_state_dict['weight_hh_l0'].shape)\n",
    "print(rnn_emu_concat.state_dict()['input2hidden.weight'].shape)"
   ]
  },
  {
   "cell_type": "markdown",
   "metadata": {},
   "source": [
    "## 4.1 Используя параметры исходного \"коробочного\" модуля, зададим эквивалентные параметры нашему новому модулю. Матрицы весов сконкатенируем, вектора смещения просто просуммируем"
   ]
  },
  {
   "cell_type": "markdown",
   "metadata": {},
   "source": [
    "## НО! Надо помнить, что матрицы весов в словаре параметров модулей torch.nn проводятся в транспонированном виде, относительно тех, что используются в реальном умножении. См. например, https://stackoverflow.com/questions/53465608/pytorch-shape-of-nn-linear-weights.  Поэтому придется транспонировать несколько раз..."
   ]
  },
  {
   "cell_type": "code",
   "execution_count": 101,
   "metadata": {},
   "outputs": [
    {
     "data": {
      "text/plain": [
       "<All keys matched successfully>"
      ]
     },
     "execution_count": 101,
     "metadata": {},
     "output_type": "execute_result"
    }
   ],
   "source": [
    "input2hidden_concat_weight = torch.cat((rnn_state_dict['weight_ih_l0'].t(),rnn_state_dict['weight_hh_l0'].t()),0).t()\n",
    "input2hidden_concat_bias = rnn_state_dict['bias_ih_l0'] + rnn_state_dict['bias_hh_l0']\n",
    "rnn_emu_concat.load_state_dict({'input2hidden.weight': input2hidden_concat_weight , \n",
    "                                'input2hidden.bias' : input2hidden_concat_bias})"
   ]
  },
  {
   "cell_type": "code",
   "execution_count": 106,
   "metadata": {},
   "outputs": [
    {
     "data": {
      "text/plain": [
       "(torch.Size([5, 50, 128]), torch.Size([1, 5, 128]))"
      ]
     },
     "execution_count": 106,
     "metadata": {},
     "output_type": "execute_result"
    }
   ],
   "source": [
    "with torch.no_grad():\n",
    "    oec, sec = rnn_emu_concat(t)\n",
    "oec.shape, sec.shape"
   ]
  },
  {
   "cell_type": "code",
   "execution_count": 107,
   "metadata": {},
   "outputs": [
    {
     "data": {
      "text/plain": [
       "tensor(False)"
      ]
     },
     "execution_count": 107,
     "metadata": {},
     "output_type": "execute_result"
    }
   ],
   "source": [
    "(o == oec).all()"
   ]
  },
  {
   "cell_type": "markdown",
   "metadata": {},
   "source": [
    "## 4.2 Объекты не совпадают... Но это, вероятно, просто ошибки округления при операциях с матрицами. Проверим это, окгруглив"
   ]
  },
  {
   "cell_type": "code",
   "execution_count": 112,
   "metadata": {},
   "outputs": [
    {
     "data": {
      "text/plain": [
       "tensor(True)"
      ]
     },
     "execution_count": 112,
     "metadata": {},
     "output_type": "execute_result"
    }
   ],
   "source": [
    "(torch.round(o,decimals=2) == torch.round(oec,decimals=2)).all()"
   ]
  },
  {
   "cell_type": "code",
   "execution_count": 113,
   "metadata": {},
   "outputs": [
    {
     "data": {
      "text/plain": [
       "tensor(False)"
      ]
     },
     "execution_count": 113,
     "metadata": {},
     "output_type": "execute_result"
    }
   ],
   "source": [
    "(s == sec).all()"
   ]
  },
  {
   "cell_type": "code",
   "execution_count": 114,
   "metadata": {},
   "outputs": [
    {
     "data": {
      "text/plain": [
       "tensor(True)"
      ]
     },
     "execution_count": 114,
     "metadata": {},
     "output_type": "execute_result"
    }
   ],
   "source": [
    "(torch.round(s,decimals=3) == torch.round(sec,decimals=3)).all()"
   ]
  },
  {
   "cell_type": "markdown",
   "metadata": {},
   "source": [
    "# 5. Создадим и обучим модель с используем самедельного рекуррентного модуля"
   ]
  },
  {
   "cell_type": "code",
   "execution_count": 124,
   "metadata": {},
   "outputs": [],
   "source": [
    "class Network(torch.nn.Module):\n",
    "    def __init__(self):\n",
    "        super(Network, self).__init__()\n",
    "        self.embedding = torch.nn.Embedding(28, 30)\n",
    "        \n",
    "#         self.rnn = torch.nn.RNN(30, 128)\n",
    "        self.rnn = RNN_emu(30, 128, batch_first=True)\n",
    "    \n",
    "        self.out = torch.nn.Linear(128, 28)\n",
    "\n",
    "    def forward(self, sentences, state=None):\n",
    "        x = self.embedding(sentences)\n",
    "        x, s = self.rnn(x) # берём выход с последнего слоя для всех токенов, а не скрытое состояние\n",
    "        return self.out(x)"
   ]
  },
  {
   "cell_type": "code",
   "execution_count": 125,
   "metadata": {
    "ExecuteTime": {
     "end_time": "2020-03-12T15:20:53.260599Z",
     "start_time": "2020-03-12T15:20:53.256979Z"
    },
    "id": "f6aCazQOm1oi"
   },
   "outputs": [],
   "source": [
    "model = Network()"
   ]
  },
  {
   "cell_type": "code",
   "execution_count": 126,
   "metadata": {
    "ExecuteTime": {
     "end_time": "2020-03-12T15:21:01.929404Z",
     "start_time": "2020-03-12T15:21:01.925999Z"
    },
    "id": "HmdNPJEWm1oj"
   },
   "outputs": [],
   "source": [
    "criterion = torch.nn.CrossEntropyLoss()  # типичный лосс многоклассовой классификации\n",
    "optimizer = torch.optim.SGD(model.parameters(), lr=.05)"
   ]
  },
  {
   "cell_type": "code",
   "execution_count": 127,
   "metadata": {},
   "outputs": [
    {
     "data": {
      "text/plain": [
       "'cuda'"
      ]
     },
     "execution_count": 127,
     "metadata": {},
     "output_type": "execute_result"
    }
   ],
   "source": [
    "device = \"cuda\" if torch.cuda.is_available() else \"cpu\"\n",
    "device"
   ]
  },
  {
   "cell_type": "code",
   "execution_count": 128,
   "metadata": {},
   "outputs": [
    {
     "data": {
      "text/plain": [
       "Network(\n",
       "  (embedding): Embedding(28, 30)\n",
       "  (rnn): RNN_emu(\n",
       "    (input2hidden): Linear(in_features=30, out_features=128, bias=True)\n",
       "    (hidden2hidden): Linear(in_features=128, out_features=128, bias=True)\n",
       "  )\n",
       "  (out): Linear(in_features=128, out_features=28, bias=True)\n",
       ")"
      ]
     },
     "execution_count": 128,
     "metadata": {},
     "output_type": "execute_result"
    }
   ],
   "source": [
    "torch.cuda.empty_cache()\n",
    "model.to(device)"
   ]
  },
  {
   "cell_type": "code",
   "execution_count": 130,
   "metadata": {},
   "outputs": [
    {
     "name": "stdout",
     "output_type": "stream",
     "text": [
      "torch.Size([5, 50])\n",
      "torch.Size([5, 49])\n",
      "torch.Size([5, 49])\n",
      "torch.Size([5, 49, 28])\n",
      "torch.Size([245])\n",
      "torch.Size([245, 28])\n"
     ]
    }
   ],
   "source": [
    "with torch.no_grad():\n",
    "    print(X[:5].shape)\n",
    "    print(X[:5][:, :-1].shape)\n",
    "    print(X[:5][:, 1:].shape)\n",
    "    print(model(X[:5][:, :-1].to(device)).shape)\n",
    "    print(X[:5][:, 1:].flatten().shape)\n",
    "    print(model(X[:5][:, :-1].to(device)).view(-1, len(INDEX_TO_CHAR)).shape)"
   ]
  },
  {
   "cell_type": "markdown",
   "metadata": {
    "id": "-J6XXp0gDUOO"
   },
   "source": [
    "Обучение:"
   ]
  },
  {
   "cell_type": "code",
   "execution_count": 131,
   "metadata": {},
   "outputs": [],
   "source": [
    "batch_size = 200"
   ]
  },
  {
   "cell_type": "code",
   "execution_count": 132,
   "metadata": {
    "ExecuteTime": {
     "end_time": "2020-03-12T15:22:04.410583Z",
     "start_time": "2020-03-12T15:21:34.734119Z"
    },
    "colab": {
     "base_uri": "https://localhost:8080/"
    },
    "id": "o7zbPtfLm1oj",
    "outputId": "0a5e6dee-4356-4350-8c23-ab8ca1542eaa",
    "scrolled": true
   },
   "outputs": [
    {
     "name": "stdout",
     "output_type": "stream",
     "text": [
      "Epoch 1. Time: 109.886, Train loss: 1.785\n",
      "Epoch 2. Time: 107.207, Train loss: 1.598\n",
      "Epoch 3. Time: 112.623, Train loss: 1.529\n",
      "Epoch 4. Time: 125.317, Train loss: 1.479\n",
      "Epoch 5. Time: 123.587, Train loss: 1.442\n",
      "Epoch 6. Time: 120.634, Train loss: 1.412\n",
      "Epoch 7. Time: 121.521, Train loss: 1.387\n",
      "Epoch 8. Time: 119.169, Train loss: 1.366\n",
      "Epoch 9. Time: 119.095, Train loss: 1.348\n",
      "Epoch 10. Time: 131.234, Train loss: 1.333\n",
      "Epoch 11. Time: 119.463, Train loss: 1.319\n",
      "Epoch 12. Time: 117.831, Train loss: 1.306\n",
      "Epoch 13. Time: 120.576, Train loss: 1.295\n",
      "Epoch 14. Time: 112.674, Train loss: 1.284\n",
      "Epoch 15. Time: 114.671, Train loss: 1.275\n",
      "Epoch 16. Time: 116.346, Train loss: 1.266\n",
      "Epoch 17. Time: 116.393, Train loss: 1.258\n",
      "Epoch 18. Time: 118.718, Train loss: 1.251\n",
      "Epoch 19. Time: 114.181, Train loss: 1.244\n",
      "Epoch 20. Time: 118.070, Train loss: 1.237\n"
     ]
    }
   ],
   "source": [
    "for ep in range(20):\n",
    "    start = time.time()\n",
    "    train_loss = 0.\n",
    "    train_passed = 0\n",
    "    \n",
    "    for i in range(int(len(X) / batch_size)):\n",
    "#     for i in range(int(len(X) / 100)):\n",
    "        # берём батч в 100 элементов\n",
    "        batch = X[i * batch_size:(i + 1) * batch_size]\n",
    "#         batch = X[i * 100:(i + 1) * 100]\n",
    "        batch  =  batch.to(device)\n",
    "        X_batch = batch[:, :-1]\n",
    "        Y_batch = batch[:, 1:].flatten()\n",
    "\n",
    "        optimizer.zero_grad()\n",
    "        answers = model.forward(X_batch)\n",
    "        answers = answers.view(-1, len(INDEX_TO_CHAR))\n",
    "        loss = criterion(answers, Y_batch)\n",
    "        train_loss += loss.item()\n",
    "\n",
    "        loss.backward()\n",
    "        optimizer.step()\n",
    "        train_passed += 1\n",
    "        \n",
    "        torch.cuda.empty_cache()\n",
    "        gc.collect()\n",
    "\n",
    "    print(\"Epoch {}. Time: {:.3f}, Train loss: {:.3f}\".format(ep+1, time.time() - start, train_loss / train_passed))"
   ]
  },
  {
   "cell_type": "code",
   "execution_count": 133,
   "metadata": {},
   "outputs": [
    {
     "data": {
      "text/plain": [
       "0"
      ]
     },
     "execution_count": 133,
     "metadata": {},
     "output_type": "execute_result"
    }
   ],
   "source": [
    "torch.cuda.empty_cache()\n",
    "gc.collect()"
   ]
  },
  {
   "cell_type": "code",
   "execution_count": 135,
   "metadata": {},
   "outputs": [
    {
     "name": "stdout",
     "output_type": "stream",
     "text": [
      "torch.return_types.topk(\n",
      "values=tensor([[[4.9390]],\n",
      "\n",
      "        [[4.0615]],\n",
      "\n",
      "        [[5.2555]]], device='cuda:0', grad_fn=<TopkBackward0>),\n",
      "indices=tensor([[[13]],\n",
      "\n",
      "        [[26]],\n",
      "\n",
      "        [[14]]], device='cuda:0'))\n"
     ]
    }
   ],
   "source": [
    "model.eval()\n",
    "print(model(torch.tensor([CHAR_TO_INDEX[ch] for ch in 'dog'],device='cuda')).topk(1))"
   ]
  },
  {
   "cell_type": "markdown",
   "metadata": {
    "ExecuteTime": {
     "end_time": "2020-03-12T15:28:40.363097Z",
     "start_time": "2020-03-12T15:28:40.357998Z"
    },
    "id": "xP_GQWpkm1ok"
   },
   "source": [
    "## Генерация\n",
    "\n",
    "\n",
    "- Сначала отправлем в модель буквы из предложения (прогревая состояние)\n",
    "- Затем берём самую вероятную букву и добавляем её в предложение\n",
    "- Повторяем пока не получим none (0)"
   ]
  },
  {
   "cell_type": "code",
   "execution_count": 136,
   "metadata": {
    "colab": {
     "base_uri": "https://localhost:8080/"
    },
    "id": "ybcHzCbUJs-R",
    "outputId": "0bbd0899-1325-4627-9bac-9dcc66a9ad41"
   },
   "outputs": [
    {
     "data": {
      "text/plain": [
       "0"
      ]
     },
     "execution_count": 136,
     "metadata": {},
     "output_type": "execute_result"
    }
   ],
   "source": [
    "CHAR_TO_INDEX['none']"
   ]
  },
  {
   "cell_type": "code",
   "execution_count": 137,
   "metadata": {
    "id": "PuqijUpeL3eB"
   },
   "outputs": [],
   "source": [
    "def generate_sentence(word):\n",
    "    sentence = list(word)\n",
    "    sentence = [CHAR_TO_INDEX.get(s, 0) for s in sentence]\n",
    "    answers = model.forward(torch.tensor(sentence, device=device))\n",
    "    probas, indices = answers.topk(1)\n",
    "    return ''.join([INDEX_TO_CHAR[ind.item()] for ind in indices.flatten()])"
   ]
  },
  {
   "cell_type": "code",
   "execution_count": 138,
   "metadata": {
    "colab": {
     "base_uri": "https://localhost:8080/",
     "height": 58
    },
    "id": "YpjZvuR_L92Z",
    "outputId": "84713f2b-6eef-451e-a28c-ea670e1e193f"
   },
   "outputs": [
    {
     "data": {
      "text/plain": [
       "'aho'"
      ]
     },
     "execution_count": 138,
     "metadata": {},
     "output_type": "execute_result"
    }
   ],
   "source": [
    "generate_sentence('dog')"
   ]
  },
  {
   "cell_type": "code",
   "execution_count": 139,
   "metadata": {
    "colab": {
     "base_uri": "https://localhost:8080/",
     "height": 58
    },
    "id": "xqS7Y-z1HghE",
    "outputId": "2104f5a2-2f36-41e4-8ee5-4aeb2a63e1d7"
   },
   "outputs": [
    {
     "data": {
      "text/plain": [
       "'nonehh o'"
      ]
     },
     "execution_count": 139,
     "metadata": {},
     "output_type": "execute_result"
    }
   ],
   "source": [
    "generate_sentence('It is')"
   ]
  },
  {
   "cell_type": "code",
   "execution_count": null,
   "metadata": {},
   "outputs": [],
   "source": []
  }
 ],
 "metadata": {
  "colab": {
   "provenance": []
  },
  "kernelspec": {
   "display_name": "Python 3 (ipykernel)",
   "language": "python",
   "name": "python3"
  },
  "language_info": {
   "codemirror_mode": {
    "name": "ipython",
    "version": 3
   },
   "file_extension": ".py",
   "mimetype": "text/x-python",
   "name": "python",
   "nbconvert_exporter": "python",
   "pygments_lexer": "ipython3",
   "version": "3.10.12"
  }
 },
 "nbformat": 4,
 "nbformat_minor": 1
}
